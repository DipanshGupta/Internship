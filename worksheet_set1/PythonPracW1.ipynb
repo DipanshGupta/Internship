{
 "cells": [
  {
   "cell_type": "code",
   "execution_count": 1,
   "id": "341645fe",
   "metadata": {},
   "outputs": [
    {
     "name": "stdout",
     "output_type": "stream",
     "text": [
      "Factorial of 15 is 1307674368000\n"
     ]
    }
   ],
   "source": [
    "# Q11 - Factorial\n",
    "def factorial(n):\n",
    "    return 1 if (n==1 or n==0) else n * factorial(n - 1);\n",
    "num = 15;\n",
    "print(\"Factorial of\",num,\"is\",\n",
    "factorial(num))"
   ]
  },
  {
   "cell_type": "code",
   "execution_count": 2,
   "id": "4baaf720",
   "metadata": {},
   "outputs": [
    {
     "name": "stdout",
     "output_type": "stream",
     "text": [
      "Enter any number : 5\n",
      "5 is a PRIME number\n"
     ]
    }
   ],
   "source": [
    "#Q12 - Prime or composite\n",
    "num = int(input(\"Enter any number : \"))\n",
    "if num > 1:\n",
    "    for i in range(2, num):\n",
    "        if (num % i) == 0:\n",
    "            print(num, \"is NOT a prime number\")\n",
    "            break\n",
    "    else:\n",
    "        print(num, \"is a PRIME number\")\n",
    "elif num == 0 or 1:\n",
    "    print(num, \"is a neither prime NOR composite number\")\n",
    "else:\n",
    "    print(num, \"is NOT a prime number it is a COMPOSITE number\")"
   ]
  },
  {
   "cell_type": "code",
   "execution_count": 4,
   "id": "ee7dee72",
   "metadata": {},
   "outputs": [
    {
     "name": "stdout",
     "output_type": "stream",
     "text": [
      "Yes\n"
     ]
    }
   ],
   "source": [
    "#Q13 - Palyndrome or not\n",
    "\n",
    "def isPalindrome(s):\n",
    "    return s == s[::-1]\n",
    "s = \"tit\"\n",
    "ans = isPalindrome(s)\n",
    "\n",
    "if ans:\n",
    "    print(\"Yes\")\n",
    "else:\n",
    "    print(\"No\")\n"
   ]
  },
  {
   "cell_type": "code",
   "execution_count": 6,
   "id": "2fd382e9",
   "metadata": {},
   "outputs": [
    {
     "name": "stdout",
     "output_type": "stream",
     "text": [
      "5.0\n"
     ]
    }
   ],
   "source": [
    "#Q14 - Pythagoras Thm.\n",
    "import math\n",
    "\n",
    "a = 3\n",
    "b = 4\n",
    "\n",
    "c = math.sqrt(a ** 2 + b ** 2)\n",
    "print(c)"
   ]
  },
  {
   "cell_type": "code",
   "execution_count": 7,
   "id": "61386c94",
   "metadata": {},
   "outputs": [
    {
     "name": "stdout",
     "output_type": "stream",
     "text": [
      "Count of all characters in GeeksforGeeks is :\n",
      " {'n': 1, 'a': 2, 'r': 1, 'u': 3, 't': 1, 'o': 1, ' ': 1, 'z': 1, 'm': 1, 'k': 1, 'i': 1}\n"
     ]
    }
   ],
   "source": [
    "#Q15 - frequency of each string\n",
    "test_str = \"naruto uzumaki\"\n",
    "all_freq = {}\n",
    "\n",
    "for i in test_str:\n",
    "    if i in all_freq:\n",
    "        all_freq[i] += 1\n",
    "    else:\n",
    "        all_freq[i] = 1\n",
    "\n",
    "\n",
    "print (\"Count of all characters in GeeksforGeeks is :\\n \"\n",
    "\t\t\t\t\t\t\t\t\t\t+ str(all_freq))\n"
   ]
  },
  {
   "cell_type": "code",
   "execution_count": null,
   "id": "f056998b",
   "metadata": {},
   "outputs": [],
   "source": []
  }
 ],
 "metadata": {
  "kernelspec": {
   "display_name": "Python 3",
   "language": "python",
   "name": "python3"
  },
  "language_info": {
   "codemirror_mode": {
    "name": "ipython",
    "version": 3
   },
   "file_extension": ".py",
   "mimetype": "text/x-python",
   "name": "python",
   "nbconvert_exporter": "python",
   "pygments_lexer": "ipython3",
   "version": "3.8.8"
  }
 },
 "nbformat": 4,
 "nbformat_minor": 5
}
